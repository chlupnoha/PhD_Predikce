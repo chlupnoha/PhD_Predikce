{
 "cells": [
  {
   "cell_type": "code",
   "execution_count": 1,
   "metadata": {},
   "outputs": [],
   "source": [
    "import _pickle as cPickle\n",
    "import data_transformation as trans\n",
    "import pandas as pd\n",
    "import numpy as np"
   ]
  },
  {
   "cell_type": "code",
   "execution_count": 2,
   "metadata": {},
   "outputs": [],
   "source": [
    "with open(r\"trained_model_metrics.pickle\", \"rb\") as input_file:\n",
    "        trained_model_metrics = cPickle.load(input_file)\n",
    "        \n",
    "trained_model = trained_model_metrics[\"model\"]\n",
    "subMSE = trained_model_metrics[\"MSE\"]\n",
    "subRMSE = trained_model_metrics[\"RMSE\"]\n",
    "model_data = trained_model_metrics[\"data\"]"
   ]
  },
  {
   "cell_type": "markdown",
   "metadata": {},
   "source": [
    "## Prediction of Compressive Strentght of Given Mix Design"
   ]
  },
  {
   "cell_type": "markdown",
   "metadata": {},
   "source": [
    "### Set the mix design"
   ]
  },
  {
   "cell_type": "code",
   "execution_count": 3,
   "metadata": {},
   "outputs": [
    {
     "data": {
      "text/plain": [
       "array(['CEM I 52,5 R', 'CEM I 42,5 R', 'CEM II/A-M 42,5 R',\n",
       "       'CEM II/B-S 32,5 R', 'CEM III/B 32,5 N SR'], dtype=object)"
      ]
     },
     "execution_count": 3,
     "metadata": {},
     "output_type": "execute_result"
    }
   ],
   "source": [
    "#Possible cement types\n",
    "model_data[\"CemType\"].unique()"
   ]
  },
  {
   "cell_type": "code",
   "execution_count": 4,
   "metadata": {},
   "outputs": [
    {
     "data": {
      "text/plain": [
       "array([ 1,  2,  3,  7,  8, 14, 28, 29, 90])"
      ]
     },
     "execution_count": 4,
     "metadata": {},
     "output_type": "execute_result"
    }
   ],
   "source": [
    "#Possible age from casting\n",
    "model_data[\"Age\"].unique()"
   ]
  },
  {
   "cell_type": "code",
   "execution_count": 24,
   "metadata": {},
   "outputs": [],
   "source": [
    "mix_design = {'CemType' : \"CEM I 42,5 R\",\n",
    "              'CemAmt' : 400, \n",
    "              'FlyAsh' : 0,\n",
    "              'Limestone' : 0, \n",
    "              'Microsil' : 0,\n",
    "              'MicrosilSuspen' : 0, \n",
    "              'CleanWater' : 100, \n",
    "              'SludgeWater' : 80, \n",
    "              'Plast' : 0, \n",
    "              'Superplast' : 3.0,\n",
    "              'AirEntrainer' : 0.6, \n",
    "              'Retarder' : 0, \n",
    "              'Accelerator' : 0, \n",
    "              'ShrinkageReducer' : 0,\n",
    "              'Stabilizer': 0, \n",
    "              'Crystalizer': 0, \n",
    "              'SlumpRetention' : 0, \n",
    "              'Agg_0_1' : 0, \n",
    "              'Agg_0_2': 0,\n",
    "              'Agg_0_4' : 780, \n",
    "              'Agg_4_6' : 0, \n",
    "              'Agg_4_8' : 0, \n",
    "              'Agg_8_16' : 1020, \n",
    "              'Agg_16_22' : 0, \n",
    "              'PPFibres' : 0,\n",
    "              'GlassFibres' : 0, \n",
    "              \"Age\": 2\n",
    "             }"
   ]
  },
  {
   "cell_type": "markdown",
   "metadata": {},
   "source": [
    "### Processing of the Data"
   ]
  },
  {
   "cell_type": "code",
   "execution_count": 25,
   "metadata": {},
   "outputs": [],
   "source": [
    "df = pd.DataFrame(mix_design,index=[0])"
   ]
  },
  {
   "cell_type": "code",
   "execution_count": 26,
   "metadata": {},
   "outputs": [
    {
     "name": "stdout",
     "output_type": "stream",
     "text": [
      "Variables were aggregated and selected dropped.\n",
      "Insignificant variables ('ShrinkageReducer','Stabilizer','SlumpRetention','Crystalizer') were dropped.\n",
      "['CemAmt', 'TotalWater'] variables were logarithmized and original variables dropped.\n",
      "Interactions (product) of Age and all variables apart from ['CemType', 'Age'] were made and original variables dropped.\n"
     ]
    }
   ],
   "source": [
    "df = trans.DataTransformatorPipeline.sum_water_agg_admix_add_fibres_microsil(df)\n",
    "df = trans.DataTransformatorPipeline.drop_insignificant_variables(df)\n",
    "df = trans.DataTransformatorPipeline.make_log_columns(df,[\"CemAmt\",\"TotalWater\"])\n",
    "df = trans.DataTransformatorPipeline.make_interactions(df,\"Age\",[\"CemType\",\"Age\"])"
   ]
  },
  {
   "cell_type": "code",
   "execution_count": 27,
   "metadata": {},
   "outputs": [],
   "source": [
    "df.columns = [x for x in list(model_data.columns) if x not in [\"ID\",\"fc_log\"]]"
   ]
  },
  {
   "cell_type": "markdown",
   "metadata": {},
   "source": [
    "### Prediction of the Compressive Strength"
   ]
  },
  {
   "cell_type": "code",
   "execution_count": 28,
   "metadata": {},
   "outputs": [],
   "source": [
    "prediction = np.exp(trained_model.predict(df))[0].round(2)\n",
    "age = int(mix_design[\"Age\"])\n",
    "predicton_RMSE = subRMSE[age]"
   ]
  },
  {
   "cell_type": "code",
   "execution_count": 29,
   "metadata": {},
   "outputs": [
    {
     "name": "stdout",
     "output_type": "stream",
     "text": [
      "Predicted compressive strength for given mix design: 31.23 MPa\n",
      "Root mean squared error on the given day on model testing set was: 5.27 MPa\n"
     ]
    }
   ],
   "source": [
    "print(f\"Predicted compressive strength for given mix design: {prediction} MPa\")\n",
    "print(f\"Root mean squared error on the given day on model testing set was: {predicton_RMSE} MPa\")"
   ]
  }
 ],
 "metadata": {
  "kernelspec": {
   "display_name": "Python 3",
   "language": "python",
   "name": "python3"
  },
  "language_info": {
   "codemirror_mode": {
    "name": "ipython",
    "version": 3
   },
   "file_extension": ".py",
   "mimetype": "text/x-python",
   "name": "python",
   "nbconvert_exporter": "python",
   "pygments_lexer": "ipython3",
   "version": "3.7.4"
  }
 },
 "nbformat": 4,
 "nbformat_minor": 2
}
